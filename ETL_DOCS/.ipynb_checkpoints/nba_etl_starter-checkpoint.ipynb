{
 "cells": [
  {
   "cell_type": "code",
   "execution_count": 1,
   "metadata": {},
   "outputs": [],
   "source": [
    "import pandas as pd"
   ]
  },
  {
   "cell_type": "code",
   "execution_count": 2,
   "metadata": {},
   "outputs": [],
   "source": [
    "shot_types = pd.read_csv('nba_shot_types.csv')\n",
    "season_data = pd.read_csv('Seasons_Stats.csv')"
   ]
  },
  {
   "cell_type": "code",
   "execution_count": 3,
   "metadata": {},
   "outputs": [
    {
     "data": {
      "text/plain": [
       "Index(['YEAR', 'PLAYER', 'TEAM', 'AGE', 'GP', 'W', 'L', 'MIN', 'PCT_FGA_2PT',\n",
       "       'PCT_FGA_3PT', 'PCT_PTS_2PT', 'PCT_PTS_MR', 'PCT_PTS_3PT',\n",
       "       'PCT_PTS_FSTBRK', 'PCT_PTS_FT', 'PCT_PTS_OFF_TOS', 'PCT_PTS_INTHEPT',\n",
       "       'PCT_2PTGFM_ASSTD', 'PCT_2PTGFM_UNASSTD', 'PCT_3PTGFM_ASSTD',\n",
       "       'PCT_3PTGFM_UNASSTD', 'PCT_FGM_ASSTD', 'PCT_FGM_UNASSTD'],\n",
       "      dtype='object')"
      ]
     },
     "execution_count": 3,
     "metadata": {},
     "output_type": "execute_result"
    }
   ],
   "source": [
    "shot_types.head()\n",
    "shot_types.columns\n",
    "\n"
   ]
  },
  {
   "cell_type": "code",
   "execution_count": 11,
   "metadata": {},
   "outputs": [],
   "source": [
    "shot_types_grouped = shot_types.groupby(['PLAYER', 'YEAR']).agg({'GP':'sum', 'W': 'sum', 'L':'sum', 'MIN': 'mean'})"
   ]
  },
  {
   "cell_type": "code",
   "execution_count": 12,
   "metadata": {},
   "outputs": [
    {
     "data": {
      "text/html": [
       "<div>\n",
       "<style scoped>\n",
       "    .dataframe tbody tr th:only-of-type {\n",
       "        vertical-align: middle;\n",
       "    }\n",
       "\n",
       "    .dataframe tbody tr th {\n",
       "        vertical-align: top;\n",
       "    }\n",
       "\n",
       "    .dataframe thead th {\n",
       "        text-align: right;\n",
       "    }\n",
       "</style>\n",
       "<table border=\"1\" class=\"dataframe\">\n",
       "  <thead>\n",
       "    <tr style=\"text-align: right;\">\n",
       "      <th></th>\n",
       "      <th></th>\n",
       "      <th>GP</th>\n",
       "      <th>W</th>\n",
       "      <th>L</th>\n",
       "      <th>MIN</th>\n",
       "    </tr>\n",
       "    <tr>\n",
       "      <th>PLAYER</th>\n",
       "      <th>YEAR</th>\n",
       "      <th></th>\n",
       "      <th></th>\n",
       "      <th></th>\n",
       "      <th></th>\n",
       "    </tr>\n",
       "  </thead>\n",
       "  <tbody>\n",
       "    <tr>\n",
       "      <td>AJ Hammons</td>\n",
       "      <td>2017</td>\n",
       "      <td>22</td>\n",
       "      <td>4</td>\n",
       "      <td>18</td>\n",
       "      <td>7.4</td>\n",
       "    </tr>\n",
       "    <tr>\n",
       "      <td rowspan=\"2\" valign=\"top\">AJ Price</td>\n",
       "      <td>2014</td>\n",
       "      <td>28</td>\n",
       "      <td>15</td>\n",
       "      <td>13</td>\n",
       "      <td>3.5</td>\n",
       "    </tr>\n",
       "    <tr>\n",
       "      <td>2015</td>\n",
       "      <td>26</td>\n",
       "      <td>11</td>\n",
       "      <td>15</td>\n",
       "      <td>12.4</td>\n",
       "    </tr>\n",
       "    <tr>\n",
       "      <td rowspan=\"2\" valign=\"top\">Aaron Brooks</td>\n",
       "      <td>2014</td>\n",
       "      <td>72</td>\n",
       "      <td>42</td>\n",
       "      <td>30</td>\n",
       "      <td>21.6</td>\n",
       "    </tr>\n",
       "    <tr>\n",
       "      <td>2015</td>\n",
       "      <td>82</td>\n",
       "      <td>50</td>\n",
       "      <td>32</td>\n",
       "      <td>23.0</td>\n",
       "    </tr>\n",
       "    <tr>\n",
       "      <td>...</td>\n",
       "      <td>...</td>\n",
       "      <td>...</td>\n",
       "      <td>...</td>\n",
       "      <td>...</td>\n",
       "      <td>...</td>\n",
       "    </tr>\n",
       "    <tr>\n",
       "      <td>Zaza Pachulia</td>\n",
       "      <td>2019</td>\n",
       "      <td>68</td>\n",
       "      <td>35</td>\n",
       "      <td>33</td>\n",
       "      <td>12.9</td>\n",
       "    </tr>\n",
       "    <tr>\n",
       "      <td>Zhaire Smith</td>\n",
       "      <td>2019</td>\n",
       "      <td>6</td>\n",
       "      <td>2</td>\n",
       "      <td>4</td>\n",
       "      <td>18.4</td>\n",
       "    </tr>\n",
       "    <tr>\n",
       "      <td rowspan=\"2\" valign=\"top\">Zhou Qi</td>\n",
       "      <td>2018</td>\n",
       "      <td>18</td>\n",
       "      <td>14</td>\n",
       "      <td>4</td>\n",
       "      <td>6.9</td>\n",
       "    </tr>\n",
       "    <tr>\n",
       "      <td>2019</td>\n",
       "      <td>1</td>\n",
       "      <td>0</td>\n",
       "      <td>1</td>\n",
       "      <td>1.0</td>\n",
       "    </tr>\n",
       "    <tr>\n",
       "      <td>Zoran Dragic</td>\n",
       "      <td>2015</td>\n",
       "      <td>16</td>\n",
       "      <td>6</td>\n",
       "      <td>10</td>\n",
       "      <td>4.7</td>\n",
       "    </tr>\n",
       "  </tbody>\n",
       "</table>\n",
       "<p>3005 rows × 4 columns</p>\n",
       "</div>"
      ],
      "text/plain": [
       "                    GP   W   L   MIN\n",
       "PLAYER        YEAR                  \n",
       "AJ Hammons    2017  22   4  18   7.4\n",
       "AJ Price      2014  28  15  13   3.5\n",
       "              2015  26  11  15  12.4\n",
       "Aaron Brooks  2014  72  42  30  21.6\n",
       "              2015  82  50  32  23.0\n",
       "...                 ..  ..  ..   ...\n",
       "Zaza Pachulia 2019  68  35  33  12.9\n",
       "Zhaire Smith  2019   6   2   4  18.4\n",
       "Zhou Qi       2018  18  14   4   6.9\n",
       "              2019   1   0   1   1.0\n",
       "Zoran Dragic  2015  16   6  10   4.7\n",
       "\n",
       "[3005 rows x 4 columns]"
      ]
     },
     "execution_count": 12,
     "metadata": {},
     "output_type": "execute_result"
    }
   ],
   "source": [
    "shot_types_grouped.loc[]"
   ]
  },
  {
   "cell_type": "code",
   "execution_count": null,
   "metadata": {},
   "outputs": [],
   "source": [
    "season_data_grouped.to_csv('season_data_grouped.csv')"
   ]
  },
  {
   "cell_type": "code",
   "execution_count": null,
   "metadata": {},
   "outputs": [],
   "source": []
  }
 ],
 "metadata": {
  "kernelspec": {
   "display_name": "Python 3",
   "language": "python",
   "name": "python3"
  },
  "language_info": {
   "codemirror_mode": {
    "name": "ipython",
    "version": 3
   },
   "file_extension": ".py",
   "mimetype": "text/x-python",
   "name": "python",
   "nbconvert_exporter": "python",
   "pygments_lexer": "ipython3",
   "version": "3.7.4"
  }
 },
 "nbformat": 4,
 "nbformat_minor": 2
}
